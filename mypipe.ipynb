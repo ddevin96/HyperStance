{
 "cells": [
  {
   "cell_type": "code",
   "execution_count": null,
   "metadata": {},
   "outputs": [],
   "source": [
    "import time\n",
    "import numpy\n",
    "\n",
    "out = \"data/MT_CSD/Biden\"\n",
    "\n",
    "model_name = 'bert-base-uncased'  # You can use other pre-trained BERT models as well\n",
    "tokenizer = BertTokenizer.from_pretrained(model_name)\n",
    "model = BertModel.from_pretrained(model_name)\n",
    "\n",
    "# Move model to GPU\n",
    "device = torch.device(\"cuda\" if torch.cuda.is_available() else \"cpu\")\n",
    "model.to(device)\n",
    "\n",
    "now = time.time()\n",
    "df = pd.read_csv(f\"{out}/text.csv\")\n",
    "text_embs = numpy.zeros((len(df), 768))\n",
    "for i in range(0, len(df)):\n",
    "    t = str(df[\"text\"][i])\n",
    "    t = t.lower()\n",
    "    inputs = tokenizer(t, truncation=True, max_length=512, return_tensors=\"pt\").to(device)\n",
    "    # Get the outputs from the BERT model\n",
    "    with torch.no_grad():\n",
    "        outputs = model(**inputs)\n",
    "    # Get the embeddings (output of the [CLS] token)\n",
    "    embeddings = outputs.last_hidden_state[:, 0, :]\n",
    "    text_embs.append(embeddings)\n",
    "\n",
    "with open(out + '/textembs.pkl', 'wb') as f:\n",
    "    pickle.dump(text_embs, f, pickle.HIGHEST_PROTOCOL)"
   ]
  },
  {
   "cell_type": "code",
   "execution_count": null,
   "metadata": {},
   "outputs": [],
   "source": [
    "from transformers import BertTokenizer, BertModel\n",
    "import pandas as pd\n",
    "import os"
   ]
  },
  {
   "cell_type": "code",
   "execution_count": null,
   "metadata": {},
   "outputs": [],
   "source": [
    "# Locals functions\n",
    "from utils import *"
   ]
  }
 ],
 "metadata": {
  "kernelspec": {
   "display_name": "venv",
   "language": "python",
   "name": "python3"
  },
  "language_info": {
   "codemirror_mode": {
    "name": "ipython",
    "version": 3
   },
   "file_extension": ".py",
   "mimetype": "text/x-python",
   "name": "python",
   "nbconvert_exporter": "python",
   "pygments_lexer": "ipython3",
   "version": "3.9.6"
  }
 },
 "nbformat": 4,
 "nbformat_minor": 2
}
